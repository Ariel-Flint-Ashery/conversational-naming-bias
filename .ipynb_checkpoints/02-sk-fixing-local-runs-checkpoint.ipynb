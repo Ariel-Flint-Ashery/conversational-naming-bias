{
 "cells": [
  {
   "cell_type": "code",
   "execution_count": 1,
   "id": "b3297639",
   "metadata": {},
   "outputs": [
    {
     "name": "stdout",
     "output_type": "stream",
     "text": [
      "Start\n",
      "torch available: True\n",
      "12.4\n",
      "_CudaDeviceProperties(name='NVIDIA TITAN Xp', major=6, minor=1, total_memory=12188MB, multi_processor_count=30, uuid=69e3ceae-9a8c-607c-5cd7-cde99d6659aa, L2_cache_size=3MB)\n",
      "torch available: True\n",
      "python: 3.11.4 (main, Jul  5 2023, 14:15:25) [GCC 11.2.0]\n",
      "torch: 2.5.1+cu124\n",
      "transformers: 4.47.0\n",
      "bitsandbytes: 0.45.4\n",
      "accelerate: 0.27.2\n",
      "model: Qwen/Qwen2.5-1.5B-Instruct\n",
      "Loading quantized model\n"
     ]
    },
    {
     "name": "stderr",
     "output_type": "stream",
     "text": [
      "/home/sagar/anaconda3/lib/python3.11/site-packages/huggingface_hub/file_download.py:797: FutureWarning: `resume_download` is deprecated and will be removed in version 1.0.0. Downloads always resume when possible. If you want to force a new download, use `force_download=True`.\n",
      "  warnings.warn(\n",
      "2025-04-08 13:10:08.965040: E external/local_xla/xla/stream_executor/cuda/cuda_fft.cc:467] Unable to register cuFFT factory: Attempting to register factory for plugin cuFFT when one has already been registered\n",
      "WARNING: All log messages before absl::InitializeLog() is called are written to STDERR\n",
      "E0000 00:00:1744132208.979671  606508 cuda_dnn.cc:8579] Unable to register cuDNN factory: Attempting to register factory for plugin cuDNN when one has already been registered\n",
      "E0000 00:00:1744132208.983968  606508 cuda_blas.cc:1407] Unable to register cuBLAS factory: Attempting to register factory for plugin cuBLAS when one has already been registered\n",
      "W0000 00:00:1744132208.995402  606508 computation_placer.cc:177] computation placer already registered. Please check linkage and avoid linking the same target more than once.\n",
      "W0000 00:00:1744132208.995414  606508 computation_placer.cc:177] computation placer already registered. Please check linkage and avoid linking the same target more than once.\n",
      "W0000 00:00:1744132208.995415  606508 computation_placer.cc:177] computation placer already registered. Please check linkage and avoid linking the same target more than once.\n",
      "W0000 00:00:1744132208.995417  606508 computation_placer.cc:177] computation placer already registered. Please check linkage and avoid linking the same target more than once.\n",
      "2025-04-08 13:10:08.999510: I tensorflow/core/platform/cpu_feature_guard.cc:210] This TensorFlow binary is optimized to use available CPU instructions in performance-critical operations.\n",
      "To enable the following instructions: AVX2 FMA, in other operations, rebuild TensorFlow with the appropriate compiler flags.\n",
      "/home/sagar/anaconda3/lib/python3.11/site-packages/huggingface_hub/file_download.py:797: FutureWarning: `resume_download` is deprecated and will be removed in version 1.0.0. Downloads always resume when possible. If you want to force a new download, use `force_download=True`.\n",
      "  warnings.warn(\n"
     ]
    }
   ],
   "source": [
    "import torch \n",
    "import transformers\n",
    "from transformers import AutoTokenizer, AutoModelForCausalLM\n",
    "import yaml\n",
    "from munch import munchify\n",
    "import prompting as pr\n",
    "import pickle\n",
    "import utils as ut\n",
    "import run_local as ask"
   ]
  },
  {
   "cell_type": "raw",
   "id": "c2cb7ddc",
   "metadata": {},
   "source": [
    "torch.cuda.device_count()"
   ]
  },
  {
   "cell_type": "code",
   "execution_count": 2,
   "id": "e672d87e",
   "metadata": {},
   "outputs": [],
   "source": [
    "def get_transition_matrix(fname, options, my_history, partner_history, prompt, first_target_id_dict):\n",
    "    \"\"\"\n",
    "    Loads or computes a transition probability dictionary and saves it to SQLite for concurrent access.\n",
    "    \"\"\"\n",
    "\n",
    "    memory_string = '_'.join(my_history) + '_&_' + '_'.join(partner_history)\n",
    "    options_string = '_'.join(options)\n",
    "\n",
    "    # Compute new transition probabilities\n",
    "    probability_dict = ask.get_probability_dict(options=options, prompt=prompt, first_target_id_dict=first_target_id_dict)\n",
    "\n",
    "    return probability_dict"
   ]
  },
  {
   "cell_type": "code",
   "execution_count": 3,
   "id": "5612bbcc",
   "metadata": {},
   "outputs": [],
   "source": [
    "with open(\"config.yaml\", \"r\") as f:\n",
    "    doc = yaml.safe_load(f)\n",
    "config = munchify(doc)"
   ]
  },
  {
   "cell_type": "raw",
   "id": "4198287c",
   "metadata": {},
   "source": [
    "basepath = '/data_users1/sagar/conversational-naming-bias/'\n",
    "model_name = config.model.model_name\n",
    "bnb_config = transformers.BitsAndBytesConfig(load_in_4bit=True, bnb_4bit_quant_type='nf4', bnb_4bit_use_double_quant=True, \n",
    "                                             bnb_4bit_compute_dtype=torch.bfloat16)\n",
    "model = AutoModelForCausalLM.from_pretrained(model_name, device_map='cuda:0', quantization_config=bnb_config, \n",
    "                                             cache_dir = basepath+'cache')#, local_files_only = True)\n",
    "model.config.use_cache = False"
   ]
  },
  {
   "cell_type": "code",
   "execution_count": 4,
   "id": "f300e8a0",
   "metadata": {},
   "outputs": [],
   "source": [
    "rewards = [-50, 100]\n",
    "\n",
    "options_id = 102\n",
    "options_set_fname = \"crows_pairs_stereo_sample.pkl\"\n",
    "options_dict = pickle.load(open(options_set_fname, 'rb'))\n",
    "topic = options_dict[options_id]['template']\n",
    "options = options_dict[options_id]['differences']"
   ]
  },
  {
   "cell_type": "code",
   "execution_count": 5,
   "id": "18455754",
   "metadata": {},
   "outputs": [],
   "source": [
    "rules = pr.get_rules(rewards, options = options, topic = topic)\n",
    "# get prompt with rules & history of play\n",
    "prompt = pr.get_prompt(player=ut.get_player(), memory_size=0, rules = rules)"
   ]
  },
  {
   "cell_type": "code",
   "execution_count": 6,
   "id": "bc5c8666",
   "metadata": {},
   "outputs": [
    {
     "name": "stdout",
     "output_type": "stream",
     "text": [
      "Options tokens: [['gay'], ['straight']]\n",
      "first options tokens: ['gay', 'straight']\n"
     ]
    }
   ],
   "source": [
    "first_target_id_dict = ask.encode_decode_options(options = options)"
   ]
  },
  {
   "cell_type": "code",
   "execution_count": 7,
   "id": "63a763db",
   "metadata": {},
   "outputs": [
    {
     "ename": "IndexError",
     "evalue": "too many indices for tensor of dimension 2",
     "output_type": "error",
     "traceback": [
      "\u001b[0;31m---------------------------------------------------------------------------\u001b[0m",
      "\u001b[0;31mIndexError\u001b[0m                                Traceback (most recent call last)",
      "Cell \u001b[0;32mIn[7], line 3\u001b[0m\n\u001b[1;32m      1\u001b[0m \u001b[38;5;66;03m# get agent response\u001b[39;00m\n\u001b[1;32m      2\u001b[0m matrix_fname \u001b[38;5;241m=\u001b[39m \u001b[38;5;124mf\u001b[39m\u001b[38;5;124m\"\u001b[39m\u001b[38;5;124mmatrices/TRANSITION_MATRIX_\u001b[39m\u001b[38;5;132;01m{\u001b[39;00mconfig\u001b[38;5;241m.\u001b[39mmodel\u001b[38;5;241m.\u001b[39mshorthand\u001b[38;5;132;01m}\u001b[39;00m\u001b[38;5;124m_ID_\u001b[39m\u001b[38;5;132;01m{\u001b[39;00moptions_id\u001b[38;5;132;01m}\u001b[39;00m\u001b[38;5;124m_\u001b[39m\u001b[38;5;132;01m{\u001b[39;00m\u001b[38;5;124m'\u001b[39m\u001b[38;5;124m_\u001b[39m\u001b[38;5;124m'\u001b[39m\u001b[38;5;241m.\u001b[39mjoin([\u001b[38;5;28mstr\u001b[39m(r)\u001b[38;5;250m \u001b[39m\u001b[38;5;28;01mfor\u001b[39;00m\u001b[38;5;250m \u001b[39mr\u001b[38;5;250m \u001b[39m\u001b[38;5;129;01min\u001b[39;00m\u001b[38;5;250m \u001b[39mrewards])\u001b[38;5;132;01m}\u001b[39;00m\u001b[38;5;124m_\u001b[39m\u001b[38;5;132;01m{\u001b[39;00mconfig\u001b[38;5;241m.\u001b[39mparams\u001b[38;5;241m.\u001b[39mtemperature\u001b[38;5;132;01m}\u001b[39;00m\u001b[38;5;124mtmp_BLANK_\u001b[39m\u001b[38;5;132;01m{\u001b[39;00mconfig\u001b[38;5;241m.\u001b[39msim\u001b[38;5;241m.\u001b[39mfill_blank\u001b[38;5;132;01m}\u001b[39;00m\u001b[38;5;124m_TEST.db\u001b[39m\u001b[38;5;124m\"\u001b[39m\n\u001b[0;32m----> 3\u001b[0m matrix \u001b[38;5;241m=\u001b[39m get_transition_matrix(fname \u001b[38;5;241m=\u001b[39m matrix_fname, options \u001b[38;5;241m=\u001b[39m options, \n\u001b[1;32m      4\u001b[0m                                my_history\u001b[38;5;241m=\u001b[39m[], partner_history\u001b[38;5;241m=\u001b[39m[], prompt \u001b[38;5;241m=\u001b[39m prompt, \n\u001b[1;32m      5\u001b[0m                                first_target_id_dict\u001b[38;5;241m=\u001b[39mfirst_target_id_dict)\n",
      "Cell \u001b[0;32mIn[2], line 10\u001b[0m, in \u001b[0;36mget_transition_matrix\u001b[0;34m(fname, options, my_history, partner_history, prompt, first_target_id_dict)\u001b[0m\n\u001b[1;32m      7\u001b[0m options_string \u001b[38;5;241m=\u001b[39m \u001b[38;5;124m'\u001b[39m\u001b[38;5;124m_\u001b[39m\u001b[38;5;124m'\u001b[39m\u001b[38;5;241m.\u001b[39mjoin(options)\n\u001b[1;32m      9\u001b[0m \u001b[38;5;66;03m# Compute new transition probabilities\u001b[39;00m\n\u001b[0;32m---> 10\u001b[0m probability_dict \u001b[38;5;241m=\u001b[39m ask\u001b[38;5;241m.\u001b[39mget_probability_dict(options\u001b[38;5;241m=\u001b[39moptions, prompt\u001b[38;5;241m=\u001b[39mprompt, first_target_id_dict\u001b[38;5;241m=\u001b[39mfirst_target_id_dict)\n\u001b[1;32m     12\u001b[0m \u001b[38;5;28;01mreturn\u001b[39;00m probability_dict\n",
      "File \u001b[0;32m~/conversational-naming-bias/run_local.py:133\u001b[0m, in \u001b[0;36mget_probability_dict\u001b[0;34m(options, prompt, first_target_id_dict, temperature, epsilon)\u001b[0m\n\u001b[1;32m    130\u001b[0m     inputs \u001b[38;5;241m=\u001b[39m tokenizer\u001b[38;5;241m.\u001b[39mencode(prompt, return_tensors \u001b[38;5;241m=\u001b[39m \u001b[38;5;124m\"\u001b[39m\u001b[38;5;124mpt\u001b[39m\u001b[38;5;124m\"\u001b[39m)\u001b[38;5;241m.\u001b[39mto(\u001b[38;5;124m\"\u001b[39m\u001b[38;5;124mcuda:0\u001b[39m\u001b[38;5;124m\"\u001b[39m)\n\u001b[1;32m    131\u001b[0m     \u001b[38;5;66;03m#inputs = tokenizer(prompt, return_tensors = \"pt\").to(\"cuda:0\") #returns different inputs structure, , where model input is inputs['input_ids']\u001b[39;00m\n\u001b[0;32m--> 133\u001b[0m inputs[\u001b[38;5;124m\"\u001b[39m\u001b[38;5;124mattention_mask\u001b[39m\u001b[38;5;124m\"\u001b[39m] \u001b[38;5;241m=\u001b[39m inputs[\u001b[38;5;124m\"\u001b[39m\u001b[38;5;124mattention_mask\u001b[39m\u001b[38;5;124m\"\u001b[39m] \n\u001b[1;32m    135\u001b[0m \u001b[38;5;28;01mwith\u001b[39;00m torch\u001b[38;5;241m.\u001b[39mno_grad():\n\u001b[1;32m    136\u001b[0m     \u001b[38;5;28;01mif\u001b[39;00m temperature \u001b[38;5;241m==\u001b[39m \u001b[38;5;241m0\u001b[39m:\n",
      "\u001b[0;31mIndexError\u001b[0m: too many indices for tensor of dimension 2"
     ]
    }
   ],
   "source": [
    "# get agent response\n",
    "matrix_fname = f\"matrices/TRANSITION_MATRIX_{config.model.shorthand}_ID_{options_id}_{'_'.join([str(r) for r in rewards])}_{config.params.temperature}tmp_BLANK_{config.sim.fill_blank}_TEST.db\"\n",
    "matrix = get_transition_matrix(fname = matrix_fname, options = options, \n",
    "                               my_history=[], partner_history=[], prompt = prompt, \n",
    "                               first_target_id_dict=first_target_id_dict)\n"
   ]
  },
  {
   "cell_type": "code",
   "execution_count": null,
   "id": "7b4b804d",
   "metadata": {},
   "outputs": [],
   "source": [
    "matrix"
   ]
  },
  {
   "cell_type": "code",
   "execution_count": null,
   "id": "b8c4e545",
   "metadata": {},
   "outputs": [],
   "source": []
  }
 ],
 "metadata": {
  "kernelspec": {
   "display_name": "Python 3 (ipykernel)",
   "language": "python",
   "name": "python3"
  },
  "language_info": {
   "codemirror_mode": {
    "name": "ipython",
    "version": 3
   },
   "file_extension": ".py",
   "mimetype": "text/x-python",
   "name": "python",
   "nbconvert_exporter": "python",
   "pygments_lexer": "ipython3",
   "version": "3.11.4"
  }
 },
 "nbformat": 4,
 "nbformat_minor": 5
}
